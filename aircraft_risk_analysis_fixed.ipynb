{
 "cells": [
  {
   "cell_type": "markdown",
   "id": "e41b4168",
   "metadata": {},
   "source": [
    "# Aircraft Risk Analysis Notebook\n",
    "\n",
    "This notebook analyzes aviation accident data to determine the safest aircraft models for purchase."
   ]
  },
  {
   "cell_type": "markdown",
   "id": "c237b19c",
   "metadata": {},
   "source": [
    "## Step 1: Import Libraries and Load Data\n",
    "```python\n",
    "import pandas as pd\n",
    "import numpy as np\n",
    "import matplotlib.pyplot as plt\n",
    "import seaborn as sns\n",
    "\n",
    "# Show plots inside the notebook\n",
    "%matplotlib inline\n",
    "\n",
    "sns.set_style(\"whitegrid\")\n",
    "sns.set_palette(\"Set2\")\n",
    "\n",
    "file_path = \"Myphase1project/Aviation_Data.csv\"\n",
    "aviation_data = pd.read_csv(file_path)\n",
    "\n",
    "print(\"Dataset Shape:\", aviation_data.shape)\n",
    "print(aviation_data.head())\n",
    "```"
   ]
  },
  {
   "cell_type": "markdown",
   "id": "14128e3c",
   "metadata": {},
   "source": [
    "## Step 2: Data Cleaning\n",
    "```python\n",
    "injury_columns = ['Total.Fatal.Injuries', 'Total.Serious.Injuries',\n",
    "                  'Total.Minor.Injuries', 'Total.Uninjured']\n",
    "aviation_data[injury_columns] = aviation_data[injury_columns].fillna(0)\n",
    "\n",
    "aviation_data['Aircraft.damage'] = aviation_data['Aircraft.damage'].fillna('Unknown')\n",
    "\n",
    "damage_mapping = {\n",
    "    'Destroyed': 1.0,\n",
    "    'Substantial': 0.7,\n",
    "    'Minor': 0.3,\n",
    "    'None': 0.0,\n",
    "    'Unknown': 0.5\n",
    "}\n",
    "aviation_data['Damage.Index'] = aviation_data['Aircraft.damage'].map(damage_mapping)\n",
    "```"
   ]
  },
  {
   "cell_type": "markdown",
   "id": "c2a35a82",
   "metadata": {},
   "source": [
    "## Step 3: Create Risk Metrics\n",
    "```python\n",
    "aviation_data['Total_Persons'] = aviation_data[injury_columns].sum(axis=1)\n",
    "\n",
    "aviation_data['Survival.Index'] = np.where(\n",
    "    aviation_data['Total_Persons'] > 0,\n",
    "    aviation_data['Total.Uninjured'] / aviation_data['Total_Persons'],\n",
    "    np.nan\n",
    ")\n",
    "aviation_data['Survival.Index'] = aviation_data['Survival.Index'].fillna(0)\n",
    "\n",
    "aviation_data['Risk.Index'] = (1 - aviation_data['Survival.Index']) * 0.6 + aviation_data['Damage.Index'] * 0.4\n",
    "```"
   ]
  },
  {
   "cell_type": "markdown",
   "id": "875fa91e",
   "metadata": {},
   "source": [
    "## Step 4: Aggregate by Make and Model\n",
    "```python\n",
    "aircraft_summary = aviation_data.groupby(['Make', 'Model']).agg({\n",
    "    'Survival.Index': 'mean',\n",
    "    'Damage.Index': 'mean',\n",
    "    'Risk.Index': 'mean',\n",
    "    'Total_Persons': 'sum'\n",
    "}).reset_index()\n",
    "\n",
    "aircraft_summary = aircraft_summary[aircraft_summary['Total_Persons'] > 5]\n",
    "\n",
    "best_10 = aircraft_summary.sort_values(by='Risk.Index').head(10)\n",
    "worst_10 = aircraft_summary.sort_values(by='Risk.Index', ascending=False).head(10)\n",
    "\n",
    "print(\"Top 10 Best Performing Aircraft:\\n\", best_10)\n",
    "print(\"\\nTop 10 Worst Performing Aircraft:\\n\", worst_10)\n",
    "```"
   ]
  },
  {
   "cell_type": "markdown",
   "id": "cbcaa55c",
   "metadata": {},
   "source": [
    "## Step 5: Top 10 Best Aircraft\n",
    "```python\n",
    "plt.figure(figsize=(12, 6))\n",
    "sns.barplot(data=best_10, x='Risk.Index', y='Model', hue='Make')\n",
    "plt.title('Top 10 Lowest Risk Aircraft')\n",
    "plt.xlabel('Risk Index (Lower = Safer)')\n",
    "plt.ylabel('Aircraft Model')\n",
    "plt.legend(title='Make')\n",
    "plt.tight_layout()\n",
    "plt.show()\n",
    "```"
   ]
  },
  {
   "cell_type": "markdown",
   "id": "b0352154",
   "metadata": {},
   "source": [
    "## Step 6: Top 10 Worst Aircraft\n",
    "```python\n",
    "plt.figure(figsize=(12, 6))\n",
    "sns.barplot(data=worst_10, x='Risk.Index', y='Model', hue='Make')\n",
    "plt.title('Top 10 Highest Risk Aircraft')\n",
    "plt.xlabel('Risk Index (Higher = More Risky)')\n",
    "plt.ylabel('Aircraft Model')\n",
    "plt.legend(title='Make')\n",
    "plt.tight_layout()\n",
    "plt.show()\n",
    "```"
   ]
  },
  {
   "cell_type": "markdown",
   "id": "e83b3d95",
   "metadata": {},
   "source": [
    "## Step 7: Scatter Plot – Survival vs. Damage Index\n",
    "```python\n",
    "plt.figure(figsize=(10, 6))\n",
    "sns.scatterplot(\n",
    "    data=aircraft_summary,\n",
    "    x='Damage.Index',\n",
    "    y='Survival.Index',\n",
    "    size='Total_Persons',\n",
    "    hue='Make',\n",
    "    alpha=0.7,\n",
    "    sizes=(50, 300)\n",
    ")\n",
    "plt.title('Survival vs Damage Index')\n",
    "plt.xlabel('Damage Index (Higher = More Damage)')\n",
    "plt.ylabel('Survival Index (Higher = Safer)')\n",
    "plt.legend(bbox_to_anchor=(1.05, 1), loc='upper left')\n",
    "plt.tight_layout()\n",
    "plt.show()\n",
    "```"
   ]
  },
  {
   "cell_type": "markdown",
   "id": "4b5fa1ec",
   "metadata": {},
   "source": [
    "## Step 8: Correlation Plot\n",
    "```python\n",
    "corr_columns = ['Survival.Index', 'Damage.Index', 'Risk.Index', 'Total_Persons']\n",
    "corr_matrix = aircraft_summary[corr_columns].corr()\n",
    "\n",
    "plt.figure(figsize=(8, 6))\n",
    "sns.heatmap(corr_matrix, annot=True, cmap='coolwarm', fmt=\".2f\")\n",
    "plt.title('Correlation Matrix of Risk Metrics')\n",
    "plt.tight_layout()\n",
    "plt.show()\n",
    "```"
   ]
  },
  {
   "cell_type": "markdown",
   "id": "7161e359",
   "metadata": {},
   "source": [
    "## Step 9: Purpose of Flight vs Risk\n",
    "```python\n",
    "plt.figure(figsize=(12, 6))\n",
    "sns.boxplot(data=aviation_data, x='Purpose.of.flight', y='Risk.Index', palette='husl')\n",
    "plt.xticks(rotation=45)\n",
    "plt.title('Risk Index by Purpose of Flight')\n",
    "plt.xlabel('Purpose of Flight')\n",
    "plt.ylabel('Risk Index')\n",
    "plt.tight_layout()\n",
    "plt.show()\n",
    "```"
   ]
  },
  {
   "cell_type": "markdown",
   "id": "93cc560b",
   "metadata": {},
   "source": [
    "## Step 10: Trend of Accidents Over Time\n",
    "```python\n",
    "aviation_data['Event.Date'] = pd.to_datetime(aviation_data['Event.Date'], errors='coerce')\n",
    "aviation_data['Year'] = aviation_data['Event.Date'].dt.year\n",
    "\n",
    "accidents_by_year = aviation_data.groupby('Year').size()\n",
    "\n",
    "plt.figure(figsize=(12, 6))\n",
    "accidents_by_year.plot(kind='line', color='purple')\n",
    "plt.title('Accidents Trend Over the Years')\n",
    "plt.xlabel('Year')\n",
    "plt.ylabel('Number of Accidents')\n",
    "plt.grid(True)\n",
    "plt.tight_layout()\n",
    "plt.show()\n",
    "```"
   ]
  }
 ],
 "metadata": {},
 "nbformat": 4,
 "nbformat_minor": 5
}
